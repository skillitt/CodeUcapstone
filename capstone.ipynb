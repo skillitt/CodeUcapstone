{
 "cells": [
  {
   "cell_type": "markdown",
   "metadata": {},
   "source": [
    "Import Library"
   ]
  },
  {
   "cell_type": "code",
   "execution_count": null,
   "metadata": {},
   "outputs": [],
   "source": [
    "import pandas as pd\n",
    "import matplotlib.pyplot as plt\n",
    "import seaborn as sns\n"
   ]
  },
  {
   "cell_type": "markdown",
   "metadata": {},
   "source": [
    "### Importing Libraries\n",
    "\n",
    "In this section, we import the necessary libraries:\n",
    "- `pandas` for data manipulation and analysis.\n",
    "- `matplotlib.pyplot` for creating static, animated, and interactive visualizations.\n",
    "- `seaborn` for making statistical graphics in Python.\n"
   ]
  },
  {
   "cell_type": "code",
   "execution_count": null,
   "metadata": {},
   "outputs": [],
   "source": [
    "# Load the cleaned dataset\n",
    "cleaned_file_path = '/Users/username/Documents/git/CodeUcapstone/cleaned_cybersecurity_attacks.csv'\n",
    "df = pd.read_csv(cleaned_file_path)\n"
   ]
  },
  {
   "cell_type": "markdown",
   "metadata": {},
   "source": [
    "### Loading the Dataset\n",
    "\n",
    "We load the cleaned dataset from a CSV file into a pandas DataFrame. This dataset contains information about cybersecurity attacks.\n"
   ]
  },
  {
   "cell_type": "code",
   "execution_count": null,
   "metadata": {},
   "outputs": [],
   "source": [
    "# Display the first few rows of the dataset to inspect\n",
    "print(\"Initial dataset:\")\n",
    "print(df.head())\n"
   ]
  },
  {
   "cell_type": "markdown",
   "metadata": {},
   "source": [
    "### Inspecting the Dataset\n",
    "\n",
    "We display the first few rows of the dataset to understand its structure and contents.\n"
   ]
  },
  {
   "cell_type": "code",
   "execution_count": null,
   "metadata": {},
   "outputs": [],
   "source": [
    "# Ensure the 'Timestamp' column is correctly parsed as datetime\n",
    "df['Timestamp'] = pd.to_datetime(df['Timestamp'])\n"
   ]
  },
  {
   "cell_type": "markdown",
   "metadata": {},
   "source": [
    "### Parsing the Timestamp Column\n",
    "\n",
    "The 'Timestamp' column is converted to a datetime format to facilitate time-based analysis.\n"
   ]
  },
  {
   "cell_type": "code",
   "execution_count": null,
   "metadata": {},
   "outputs": [],
   "source": [
    "# Extract year from the 'Timestamp' column\n",
    "df['Year'] = df['Timestamp'].dt.year\n"
   ]
  },
  {
   "cell_type": "markdown",
   "metadata": {},
   "source": [
    "### Extracting Year\n",
    "\n",
    "We extract the year from the 'Timestamp' column and store it in a new column called 'Year'.\n"
   ]
  },
  {
   "cell_type": "code",
   "execution_count": null,
   "metadata": {},
   "outputs": [],
   "source": [
    "# Visualization 1: Bar Plot (number of attacks per year)\n",
    "plt.figure(figsize=(10, 6))\n",
    "attacks_per_year = df['Year'].value_counts().sort_index()\n",
    "sns.barplot(x=attacks_per_year.index, y=attacks_per_year.values, palette='viridis')\n",
    "plt.xlabel('Year')\n",
    "plt.ylabel('Number of Attacks')\n",
    "plt.title('Number of Cybersecurity Attacks per Year')\n",
    "plt.xticks(rotation=45)\n",
    "plt.show()\n"
   ]
  },
  {
   "cell_type": "markdown",
   "metadata": {},
   "source": [
    "### Visualization 1: Bar Plot of Attacks per Year\n",
    "\n",
    "This bar plot shows the number of cybersecurity attacks per year. The x-axis represents the year, and the y-axis represents the number of attacks. We use a 'viridis' color palette to enhance visual appeal.\n"
   ]
  },
  {
   "cell_type": "code",
   "execution_count": null,
   "metadata": {},
   "outputs": [],
   "source": [
    "# Check the dataframe structure and summary statistics\n",
    "print(\"DataFrame info:\")\n",
    "print(df.info())\n",
    "print(\"DataFrame description:\")\n",
    "print(df.describe())\n"
   ]
  },
  {
   "cell_type": "markdown",
   "metadata": {},
   "source": [
    "### Checking DataFrame Structure and Summary Statistics\n",
    "\n",
    "We examine the structure of the DataFrame and generate summary statistics to better understand the data.\n"
   ]
  },
  {
   "cell_type": "code",
   "execution_count": null,
   "metadata": {},
   "outputs": [],
   "source": [
    "# Visualization 2: Heatmap (correlation matrix of numerical features)\n",
    "plt.figure(figsize=(10, 8))\n",
    "numerical_columns = df.select_dtypes(include='number').columns\n",
    "correlation_matrix = df[numerical_columns].corr()\n",
    "sns.heatmap(correlation_matrix, annot=True, cmap='coolwarm', linewidths=0.5)\n",
    "plt.title('Correlation Matrix of Features')\n",
    "plt.show()\n"
   ]
  },
  {
   "cell_type": "markdown",
   "metadata": {},
   "source": [
    "### Visualization 2: Heatmap of Correlation Matrix\n",
    "\n",
    "This heatmap displays the correlation matrix of numerical features in the dataset. It helps us understand the relationships between different numerical variables. The color map used is 'coolwarm'.\n"
   ]
  },
  {
   "cell_type": "code",
   "execution_count": null,
   "metadata": {},
   "outputs": [],
   "source": [
    "# Visualization 3: Line Plot (trend of attacks over time)\n",
    "plt.figure(figsize=(10, 6))\n",
    "df.set_index('Timestamp', inplace=True)\n",
    "attacks_per_month = df.resample('M').size()\n",
    "sns.lineplot(x=attacks_per_month.index, y=attacks_per_month.values, marker='o')\n",
    "plt.xlabel('Date')\n",
    "plt.ylabel('Number of Attacks')\n",
    "plt.title('Trend of Cybersecurity Attacks Over Time')\n",
    "plt.xticks(rotation=45)\n",
    "plt.show()\n"
   ]
  },
  {
   "cell_type": "markdown",
   "metadata": {},
   "source": [
    "### Visualization 3: Line Plot of Attacks Over Time\n",
    "\n",
    "This line plot illustrates the trend of cybersecurity attacks over time. The x-axis represents the date, and the y-axis represents the number of attacks per month. Markers are used to highlight each data point.\n"
   ]
  },
  {
   "cell_type": "code",
   "execution_count": null,
   "metadata": {},
   "outputs": [],
   "source": [
    "# Visualization 4: Box Plot (distribution of anomaly scores by day)\n",
    "import seaborn as sns\n",
    "import matplotlib.pyplot as plt\n",
    "plt.figure(figsize=(12, 8))\n",
    "sns.boxplot(x='Day', y='Anomaly Scores', data=df, palette='viridis')\n",
    "plt.xlabel('Day')\n",
    "plt.ylabel('Anomaly Scores')\n",
    "plt.title('Distribution of Anomaly Scores by Day')\n",
    "plt.xticks(rotation=45)\n",
    "plt.show()\n"
   ]
  },
  {
   "cell_type": "markdown",
   "metadata": {},
   "source": [
    "### Visualization 4: Box Plot of Anomaly Scores by Day\n",
    "\n",
    "This box plot shows the distribution of anomaly scores by day of the week. The x-axis represents the day of the week, and the y-axis represents the anomaly scores. The 'viridis' color palette is used to enhance visual differentiation.\n"
   ]
  }
 ],
 "metadata": {
  "kernelspec": {
   "display_name": "venv",
   "language": "python",
   "name": "python3"
  },
  "language_info": {
   "codemirror_mode": {
    "name": "ipython",
    "version": 3
   },
   "file_extension": ".py",
   "mimetype": "text/x-python",
   "name": "python",
   "nbconvert_exporter": "python",
   "pygments_lexer": "ipython3",
   "version": "3.11.5"
  }
 },
 "nbformat": 4,
 "nbformat_minor": 2
}

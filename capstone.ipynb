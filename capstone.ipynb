{
 "cells": [
  {
   "cell_type": "code",
   "execution_count": null,
   "metadata": {},
   "outputs": [],
   "source": [
    "import pandas as pd\n",
    "import matplotlib.pyplot as plt\n",
    "import seaborn as sns\n",
    "\n",
    "# Ensure plots are displayed inline in Jupyter Notebook\n",
    "%matplotlib inline\n",
    "\n",
    "# Load the cleaned dataset\n",
    "cleaned_file_path = '/Users/markdevore/Documents/git/CodeUcapstone/cleaned_cybersecurity_attacks.csv'\n",
    "df = pd.read_csv(cleaned_file_path)\n",
    "\n",
    "# Visualization 1: Bar Plot (number of attacks per year)\n",
    "plt.figure(figsize=(10, 6))\n",
    "attacks_per_year = df['Year'].value_counts().sort_index()\n",
    "sns.barplot(x=attacks_per_year.index, y=attacks_per_year.values, palette='viridis', hue=attacks_per_year.index, dodge=False, legend=False)\n",
    "plt.xlabel('Year')\n",
    "plt.ylabel('Number of Attacks')\n",
    "plt.title('Number of Cybersecurity Attacks per Year')\n",
    "plt.xticks(rotation=45)\n",
    "plt.show()\n",
    "\n",
    "# Visualization 2: Heatmap (correlation matrix of numerical features)\n",
    "plt.figure(figsize=(10, 8))\n",
    "numerical_features = df.select_dtypes(include=['float64', 'int64'])\n",
    "correlation_matrix = numerical_features.corr()\n",
    "sns.heatmap(correlation_matrix, annot=True, cmap='coolwarm', linewidths=0.5)\n",
    "plt.title('Correlation Matrix of Features')\n",
    "plt.show()\n",
    "\n",
    "# Visualization 3: Line Plot (trend of attacks over time)\n",
    "plt.figure(figsize=(10, 6))\n",
    "df['Timestamp'] = pd.to_datetime(df['Timestamp'])\n",
    "df.set_index('Timestamp', inplace=True)\n",
    "attacks_per_month = df.resample('ME').size()  # Use 'ME' instead of 'M'\n",
    "sns.lineplot(x=attacks_per_month.index, y=attacks_per_month.values, marker='o')\n",
    "plt.xlabel('Date')\n",
    "plt.ylabel('Number of Attacks')\n",
    "plt.title('Trend of Cybersecurity Attacks Over Time')\n",
    "plt.xticks(rotation=45)\n",
    "plt.show()\n"
   ]
  }
 ],
 "metadata": {
  "kernelspec": {
   "display_name": "venv",
   "language": "python",
   "name": "python3"
  },
  "language_info": {
   "codemirror_mode": {
    "name": "ipython",
    "version": 3
   },
   "file_extension": ".py",
   "mimetype": "text/x-python",
   "name": "python",
   "nbconvert_exporter": "python",
   "pygments_lexer": "ipython3",
   "version": "3.11.5"
  }
 },
 "nbformat": 4,
 "nbformat_minor": 2
}
